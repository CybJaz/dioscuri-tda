{
 "cells": [
  {
   "cell_type": "markdown",
   "metadata": {},
   "source": [
    "This example is inspired by the following script:\n",
    "https://github.com/scikit-tda/kepler-mapper/blob/master/examples/digits/digits.ipynb\n",
    "There are hovewer substantial changes to it that simplify the visualization. \n",
    "\n",
    "This is an interesting example of use of Mapper, as the domain of the lense is $R^2$ instead of $R$. The lense will be constructed using UMAP library, that project the hand written digits from their ambient space to $R^2$."
   ]
  },
  {
   "cell_type": "code",
   "execution_count": null,
   "metadata": {},
   "outputs": [],
   "source": [
    "import kmapper as km\n",
    "from kmapper import jupyter \n",
    "import numpy as np\n",
    "import sklearn\n",
    "from sklearn import datasets\n",
    "try:\n",
    "    import umap\n",
    "except ImportError:\n",
    "    print(\"This example requires the UMAP library. You can install it with the command `!pip install umap-learn`\")\n",
    "import warnings\n",
    "warnings.filterwarnings(\"ignore\")\n",
    "from kmapper.plotlyviz import plotlyviz\n",
    "from kmapper.plotlyviz import *\n",
    "import plotly.graph_objs as go\n",
    "import ipywidgets as ipw\n",
    "import matplotlib.pyplot as plt\n",
    "%matplotlib inline"
   ]
  },
  {
   "cell_type": "code",
   "execution_count": null,
   "metadata": {},
   "outputs": [],
   "source": [
    "data, labels = datasets.load_digits().data, datasets.load_digits().target"
   ]
  },
  {
   "cell_type": "code",
   "execution_count": null,
   "metadata": {},
   "outputs": [],
   "source": [
    "#Let us take a look at the data - they are low resolution hand written figures:\n",
    "\n",
    "for i in range(0,9):\n",
    "    digit = np.resize(data[i],(8,8))\n",
    "    fig = plt.figure(figsize=(6, 3.2))\n",
    "    plt.imshow(digit)"
   ]
  },
  {
   "cell_type": "code",
   "execution_count": null,
   "metadata": {},
   "outputs": [],
   "source": [
    "#Let us now construst the mapper\n",
    "mapper = km.KeplerMapper(verbose=1)\n",
    "\n",
    "#Our lense function will be baser on 2-dimensional UMAP projection of the digits that we are going to construct right here:\n",
    "projected_data_ = mapper.fit_transform(data, projection=umap.UMAP(n_neighbors=8,\n",
    "                                                                 min_dist=0.65,\n",
    "                                                                 n_components=2,\n",
    "                                                                 metric='euclidean',\n",
    "                                                                 random_state=3571))"
   ]
  },
  {
   "cell_type": "code",
   "execution_count": null,
   "metadata": {
    "scrolled": true
   },
   "outputs": [],
   "source": [
    "graph = mapper.map(projected_data_,data,\n",
    "                      clusterer=sklearn.cluster.DBSCAN(eps=20, min_samples=10),#Note that this gives separation of all the digits\n",
    "                      #clusterer=sklearn.cluster.DBSCAN(eps=20, min_samples=3),\n",
    "                      #clusterer=sklearn.cluster.KMeans(init=\"k-means++\", n_clusters=10),\n",
    "                      #clusterer=sklearn.cluster.MeanShift(min_bin_freq=1, cluster_all=True, max_iter=300),\n",
    "                      #clusterer=sklearn.cluster.AgglomerativeClustering(n_clusters=2, affinity='euclidean', compute_full_tree='auto', linkage='ward'),\n",
    "                      #clusterer=sklearn.cluster.SpectralClustering(n_clusters=8,n_init=10,n_neighbors=10),                \n",
    "                      #cover=km.Cover(20, 0.8))\n",
    "                      cover=km.Cover(5, 0.5))\n",
    "html = mapper.visualize(graph,color_function=labels,path_html=\"projection_of_digits.html\")\n",
    "\n",
    "jupyter.display(path_html=\"projection_of_digits.html\")"
   ]
  }
 ],
 "metadata": {
  "kernelspec": {
   "display_name": "Python 3",
   "language": "python",
   "name": "python3"
  },
  "language_info": {
   "codemirror_mode": {
    "name": "ipython",
    "version": 3
   },
   "file_extension": ".py",
   "mimetype": "text/x-python",
   "name": "python",
   "nbconvert_exporter": "python",
   "pygments_lexer": "ipython3",
   "version": "3.8.5"
  }
 },
 "nbformat": 4,
 "nbformat_minor": 4
}
